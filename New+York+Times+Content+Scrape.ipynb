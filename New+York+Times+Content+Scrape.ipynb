{
 "cells": [
  {
   "cell_type": "code",
   "execution_count": 1,
   "metadata": {
    "collapsed": true
   },
   "outputs": [],
   "source": [
    "import newspaper"
   ]
  },
  {
   "cell_type": "code",
   "execution_count": 2,
   "metadata": {
    "collapsed": true
   },
   "outputs": [],
   "source": [
    "from newspaper import Article"
   ]
  },
  {
   "cell_type": "code",
   "execution_count": 3,
   "metadata": {
    "collapsed": true
   },
   "outputs": [],
   "source": [
    "import re"
   ]
  },
  {
   "cell_type": "code",
   "execution_count": 4,
   "metadata": {
    "collapsed": true
   },
   "outputs": [],
   "source": [
    "import collections"
   ]
  },
  {
   "cell_type": "code",
   "execution_count": 5,
   "metadata": {
    "collapsed": true
   },
   "outputs": [],
   "source": [
    "from collections import Counter"
   ]
  },
  {
   "cell_type": "code",
   "execution_count": 6,
   "metadata": {
    "collapsed": true
   },
   "outputs": [],
   "source": [
    "import csv"
   ]
  },
  {
   "cell_type": "code",
   "execution_count": 7,
   "metadata": {
    "collapsed": true
   },
   "outputs": [],
   "source": [
    "from NYTimesArticleAPInew import articleAPI\n",
    "api = articleAPI('8ea7f91a8e294b51b12f3f69849fef95') # special api key to access the NYT article archive for analysis "
   ]
  },
  {
   "cell_type": "code",
   "execution_count": 8,
   "metadata": {
    "collapsed": true
   },
   "outputs": [],
   "source": [
    "import time"
   ]
  },
  {
   "cell_type": "code",
   "execution_count": 9,
   "metadata": {
    "collapsed": true
   },
   "outputs": [],
   "source": [
    "apathetic = [\"prison\", \"crime\", \"criminal\", \"police\", \"justice\", \"arrest\", \"threat\", \"violence\", \"habit\"]"
   ]
  },
  {
   "cell_type": "code",
   "execution_count": 10,
   "metadata": {
    "collapsed": true
   },
   "outputs": [],
   "source": [
    "empathetic = [\"treatment\", \"disease\", \"sick\", \"health\", \"therapy\", \"insurance\", \"patient\", \"overdose\", \"misuse\"]"
   ]
  },
  {
   "cell_type": "code",
   "execution_count": 11,
   "metadata": {
    "collapsed": true
   },
   "outputs": [],
   "source": [
    "def counter(link): # takes in url to be scraped and records their word frequencies and publication years\n",
    "    cnt = Counter()\n",
    "    emp_tally = 0\n",
    "    ap_tally = 0 \n",
    "    article = Article(url = link, language = 'en') \n",
    "    article.download()\n",
    "    article.parse()\n",
    "    year = article.publish_date.year\n",
    "    article_words = re.findall('\\w+', article.text.lower()) # create list of every word in article body\n",
    "    for word in article_words: # create dict of frequency w/ which target words appear in article\n",
    "        if word in apathetic:\n",
    "            cnt[word] += 1\n",
    "            ap_tally += 1 # keep track of how many apathetic words total are used in article\n",
    "        if word in empathetic:\n",
    "            cnt[word] += 1\n",
    "            emp_tally += 1 # keep track of how many empathetic words total are used in article\n",
    "    cnt['emp_tally'] = emp_tally \n",
    "    cnt['ap_tally'] = ap_tally\n",
    "    finish = [cnt, year] \n",
    "    return finish; # returns list with dict of word frequencies and year of article publication"
   ]
  },
  {
   "cell_type": "code",
   "execution_count": 12,
   "metadata": {
    "collapsed": true
   },
   "outputs": [],
   "source": [
    "def cocaine_scrub(link_list): # takes in list of urls to be scrubbed and writes their word tallies into a csv file\n",
    "    totals_dict = {'emp_total': 0, 'ap_total': 0}\n",
    "    with open('crack_epidemic_data.csv', 'w') as f:\n",
    "        writer = csv.writer(f)\n",
    "        writer.writerow([\"Year\", \"Word\", \"Frequency\"]) # write csv file headers\n",
    "        for i in range (0, len(link_list)): # cycle through list of urls\n",
    "            count = counter(link_list[i]) # get dict of word frequencies and publication date for i'th article\n",
    "            year = (count[1], ) \n",
    "            if i != 0 and year != prev_year:\n",
    "                for row in totals_dict.items(): \n",
    "                    writer.writerow(prev_year + row)\n",
    "                totals_dict[\"emp_total\"] = 0\n",
    "                totals_dict[\"ap_total\"] = 0\n",
    "            prev_year = (count[1], )\n",
    "            totals_dict[\"emp_total\"] += count[0][\"emp_tally\"] # tally total number of empathetic words used in given year\n",
    "            totals_dict[\"ap_total\"] += count[0][\"ap_tally\"] # tally total number of apathetic words used in given year\n",
    "            for row in count[0].items():\n",
    "                writer.writerow(year + row) # write word frequencies and emp/ap tallies for each article to a csv file\n",
    "            if i == (len (link_list) - 1):\n",
    "                for row in totals_dict.items(): \n",
    "                    writer.writerow(year + row)"
   ]
  },
  {
   "cell_type": "code",
   "execution_count": 13,
   "metadata": {
    "collapsed": true
   },
   "outputs": [],
   "source": [
    "def heroin_scrub(link_list): # takes in list of urls to be scrubbed and writes their word tallies into a csv file\n",
    "    totals_dict = {'emp_total': 0, 'ap_total': 0}\n",
    "    with open('heroin_epidemic_data.csv', 'w') as f:\n",
    "        writer = csv.writer(f)\n",
    "        writer.writerow([\"Year\", \"Word\", \"Frequency\"]) # write csv file headers\n",
    "        for i in range (0, len(link_list)): # cycle through list of urls\n",
    "            count = counter(link_list[i]) # get dict of word frequencies and publication date for i'th article\n",
    "            year = (count[1], ) \n",
    "            if i != 0 and year != prev_year:\n",
    "                for row in totals_dict.items(): \n",
    "                    writer.writerow(prev_year + row)\n",
    "                totals_dict[\"emp_total\"] = 0\n",
    "                totals_dict[\"ap_total\"] = 0\n",
    "            prev_year = (count[1], )\n",
    "            totals_dict[\"emp_total\"] += count[0][\"emp_tally\"] # tally total number of empathetic words used in given year\n",
    "            totals_dict[\"ap_total\"] += count[0][\"ap_tally\"] # tally total number of apathetic words used in given year\n",
    "            for row in count[0].items():\n",
    "                writer.writerow(year + row) # write word frequencies and emp/ap tallies for each article to a csv file\n",
    "            if i == (len (link_list) - 1):\n",
    "                for row in totals_dict.items(): \n",
    "                    writer.writerow(year + row)"
   ]
  },
  {
   "cell_type": "code",
   "execution_count": 14,
   "metadata": {
    "collapsed": true
   },
   "outputs": [],
   "source": [
    "def parse_articles(articles): # takes in response to NYT api and parses articles into list of dicts\n",
    "    news = []\n",
    "    for i in articles['response']['docs']:\n",
    "        dic = {}\n",
    "        dic['url'] = i['web_url'] \n",
    "        news.append(dic)\n",
    "    return(news) "
   ]
  },
  {
   "cell_type": "code",
   "execution_count": 15,
   "metadata": {
    "collapsed": true
   },
   "outputs": [],
   "source": [
    "def get_articles(date, query): # accepts year (e.g.'1980') & query term (e.g.'Amnesty International') as str\n",
    "                              # and returns list of parsed articles (in dicts) for that year.\n",
    "    all_articles = []\n",
    "    for i in range (0,25):\n",
    "        articles = api.search(q = query,\n",
    "                fq = {'source':['Reuters','AP', 'The New York Times'], 'section_name': ['Health', \n",
    "                      'N.Y. / Region', 'N.Y./Region', 'NYRegion', 'National', 'New York', 'New York and Region',\n",
    "                      'U.S.', 'Washington']}, # limits the sections searched for the analysis \n",
    "                begin_date = date + '0101', # delimits the start date of the search\n",
    "                end_date = date + '1231', # delimits the end datea of the search\n",
    "                fl = 'web_url', # specifies the information to pull from the search results — in this case, the URL\n",
    "                page = i)\n",
    "        time.sleep(0.9) # a time delay to circumvent the NYT time-sensitive pull-request limit\n",
    "        parsed_articles = parse_articles(articles) \n",
    "        all_articles = all_articles + parsed_articles \n",
    "    return(all_articles)"
   ]
  },
  {
   "cell_type": "code",
   "execution_count": 17,
   "metadata": {},
   "outputs": [
    {
     "name": "stdout",
     "output_type": "stream",
     "text": [
      "Processing 1985...\n",
      "Processing 1986...\n",
      "Processing 1987...\n",
      "Processing 1988...\n",
      "Processing 1989...\n",
      "Processing 1990...\n",
      "Processing 1991...\n",
      "Processing 1992...\n",
      "Processing 1993...\n",
      "Processing 1994...\n",
      "Processing 1995...\n",
      "Processing 1996...\n",
      "Processing 1997...\n",
      "Processing 1998...\n"
     ]
    }
   ],
   "source": [
    "cocaine_all = []\n",
    "for i in range(1985,1999): # generates a dict of all crack-related URLs\n",
    "    print ('Processing ' + str(i) + '...')\n",
    "    time.sleep(0.8) # a time delay to prevent an error that kept interrupting the analysis\n",
    "    cocaine_year =  get_articles(str(i),'crack epidemic') # sets the search query term to use\n",
    "    cocaine_all = cocaine_all + cocaine_year"
   ]
  },
  {
   "cell_type": "code",
   "execution_count": 18,
   "metadata": {
    "collapsed": true
   },
   "outputs": [],
   "source": [
    "cocaine_list = []\n",
    "for i in range (0, len(cocaine_all)): # converts the dict of URLs into a list of URLs\n",
    "    for value in cocaine_all[i].items():\n",
    "        cocaine_list.append(value[1])"
   ]
  },
  {
   "cell_type": "code",
   "execution_count": 19,
   "metadata": {},
   "outputs": [
    {
     "name": "stdout",
     "output_type": "stream",
     "text": [
      "Processing 2004...\n",
      "Processing 2005...\n",
      "Processing 2006...\n",
      "Processing 2007...\n",
      "Processing 2008...\n",
      "Processing 2009...\n",
      "Processing 2010...\n",
      "Processing 2011...\n",
      "Processing 2012...\n",
      "Processing 2013...\n",
      "Processing 2014...\n",
      "Processing 2015...\n",
      "Processing 2016...\n",
      "Processing 2017...\n"
     ]
    }
   ],
   "source": [
    "heroin_all = []\n",
    "for i in range(2004,2018): # generates a dict of all opioid-related URLs\n",
    "    print ('Processing ' + str(i) + '...')\n",
    "    time.sleep(0.8) # a time delay to prevent an error that kept interrupting the analysis\n",
    "    heroin_year =  get_articles(str(i),'opioid epidemic') # sets the search query term to use\n",
    "    heroin_all = heroin_all + heroin_year"
   ]
  },
  {
   "cell_type": "code",
   "execution_count": 20,
   "metadata": {
    "collapsed": true
   },
   "outputs": [],
   "source": [
    "heroin_list = []\n",
    "for i in range (0, len(heroin_all)): # converts the dict of URLs into a list of URLs\n",
    "    for value in heroin_all[i].items():\n",
    "        heroin_list.append(value[1])"
   ]
  },
  {
   "cell_type": "code",
   "execution_count": 21,
   "metadata": {
    "scrolled": true
   },
   "outputs": [
    {
     "data": {
      "text/plain": [
       "['https://www.nytimes.com/1985/11/29/nyregion/a-new-purified-form-of-cocaine-causes-alarm-as-abuse-increases.html',\n",
       " 'https://www.nytimes.com/1985/10/24/us/bathhouse-curbs-called-help-in-coast-aids-fight.html',\n",
       " 'https://www.nytimes.com/1986/12/20/nyregion/force-seller-to-upgrade-buildings-koch-urges.html',\n",
       " 'https://www.nytimes.com/1986/11/17/us/anatomy-of-the-drug-issue-how-after-years-it-erupted.html',\n",
       " 'https://www.nytimes.com/1986/11/08/opinion/the-crack-judges-by-merit.html',\n",
       " 'https://www.nytimes.com/1986/10/31/arts/pop-jazz-concerts-with-a-cause-fight-against-crack.html',\n",
       " 'https://www.nytimes.com/1986/10/30/nyregion/2-suffolk-officers-indicted-on-charges-of-cocaine-use.html',\n",
       " 'https://www.nytimes.com/1986/10/03/nyregion/news-summary-friday-october-3-1986.html',\n",
       " 'https://www.nytimes.com/1986/10/03/us/24-task-forces-sought-by-meese-to-fight-crack.html',\n",
       " 'https://www.nytimes.com/1986/09/26/nyregion/drug-influx-a-strain-on-the-beat.html',\n",
       " 'https://www.nytimes.com/1986/09/22/nyregion/drug-play-to-reflect-a-new-era.html',\n",
       " 'https://www.nytimes.com/1986/09/15/us/reagans-advocate-crusade-on-drugs.html',\n",
       " 'https://www.nytimes.com/1986/09/14/us/worried-citizens-are-joining-officials-around-us-to-fight-spread-of-crack.html',\n",
       " 'https://www.nytimes.com/1986/09/13/nyregion/growth-in-heroin-use-ending-as-city-users-turn-to-crack.html',\n",
       " 'https://www.nytimes.com/1986/09/12/nyregion/new-police-drug-task-force-arrests-183-in-daylong-sweep.html',\n",
       " 'https://www.nytimes.com/1986/09/02/opinion/laws-alone-won-t-stop-crack.html',\n",
       " 'https://www.nytimes.com/1986/08/26/nyregion/new-york-day-by-day-rock-against-crack.html',\n",
       " 'https://www.nytimes.com/1986/08/24/us/experts-see-us-cocaine-problem-as-continuing-despite-antidrug-raids.html',\n",
       " 'https://www.nytimes.com/1986/08/22/nyregion/police-searching-for-crack-pipes-raid-hundreds-of-stores-in-city.html',\n",
       " 'https://www.nytimes.com/1986/08/18/nyregion/cuomo-plan-fuels-drug-laws-debate.html',\n",
       " 'https://www.nytimes.com/1986/08/16/nyregion/cuomo-asking-for-sentences-of-up-to-life-for-crack-sellers.html',\n",
       " 'https://www.nytimes.com/1986/08/10/nyregion/rising-concern-on-drugs-stirs-public-to-activism.html',\n",
       " 'https://www.nytimes.com/1986/08/05/us/reagan-seeks-drug-tests-for-key-us-employees.html',\n",
       " 'https://www.nytimes.com/1986/08/03/us/police-corruption-plaguing-florida.html',\n",
       " 'https://www.nytimes.com/1986/08/02/nyregion/news-summary-saturday-august-2-1986.html',\n",
       " 'https://www.nytimes.com/1986/07/26/opinion/observer-same-old-junk.html',\n",
       " 'https://www.nytimes.com/1986/07/16/us/ex-drug-addict-warns-panel-of-cocaine-peril.html',\n",
       " 'https://www.nytimes.com/1986/07/14/nyregion/losing-drug-fight-morgenthau-giuliani-clash-reflects-wide-concern-over-who-blame.html',\n",
       " 'https://www.nytimes.com/1986/07/11/nyregion/morgenthau-calls-us-bid-to-fight-cocaine-minimal.html',\n",
       " 'https://www.nytimes.com/1986/06/29/nyregion/new-training-program-for-police-bolsters-efforts-against-cocaine.html',\n",
       " 'https://www.nytimes.com/1986/06/27/nyregion/battle-against-crack-some-drug-experts-say-new-efforts-cuomo-koch-may-miss-goals.html',\n",
       " 'https://www.nytimes.com/1986/06/20/nyregion/the-men-with-squeegees-troubling-fact-of-city-life.html',\n",
       " 'https://www.nytimes.com/1986/06/08/nyregion/crack-addiction-spreads-among-the-middle-class.html',\n",
       " 'https://www.nytimes.com/1986/06/08/nyregion/at-rally-in-bronx-hundreds-clamor-for-aid-in-drug-fight.html',\n",
       " 'https://www.nytimes.com/1986/06/08/nyregion/use-of-the-drug-crack-growing-on-li.html',\n",
       " 'https://www.nytimes.com/1986/05/25/nyregion/drugs-in-the-work-place-efforts-grow-to-stem-abuse.html',\n",
       " 'https://www.nytimes.com/1986/05/18/nyregion/opium-dens-for-the-crack-era.html',\n",
       " 'https://www.nytimes.com/1986/05/16/nyregion/business-digest-friday-may-16-1986.html',\n",
       " 'https://www.nytimes.com/1986/05/16/nyregion/drug-treatment-in-city-is-strained-by-crack-a-potent-new-cocaine.html',\n",
       " 'https://www.nytimes.com/1987/12/11/nyregion/the-angels-stress-patrol-on-streets.html',\n",
       " 'https://www.nytimes.com/1987/09/27/nyregion/a-simple-notion-offers-hope-for-street-youths.html',\n",
       " 'https://www.nytimes.com/1987/08/30/nyregion/new-jersey-opinion-drug-abuse-action-is-needed-now.html',\n",
       " 'https://www.nytimes.com/1987/08/30/us/rich-vs-poor-drug-patterns-are-diverging.html',\n",
       " 'https://www.nytimes.com/1987/08/14/nyregion/crowded-jails-hard-solutions-new-york-city-is-striving-to-reduce-state-inmates.html',\n",
       " 'https://www.nytimes.com/1987/07/31/nyregion/us-breaks-up-major-crack-ring-in-new-york.html',\n",
       " 'https://www.nytimes.com/1987/06/08/nyregion/news-summary-monday-june-8-1987.html',\n",
       " 'https://www.nytimes.com/1987/05/31/nyregion/about-books.html',\n",
       " 'https://www.nytimes.com/1987/03/15/nyregion/a-system-overloaded-the-foster-care-crisis.html',\n",
       " 'https://www.nytimes.com/1987/03/08/nyregion/study-urges-new-measures-to-combat-drugs.html',\n",
       " 'https://www.nytimes.com/1987/01/15/us/urban-homicide-rates-in-us-up-sharply-in-1986.html',\n",
       " 'https://www.nytimes.com/1988/12/26/nyregion/homicides-hit-a-record-in-new-york.html',\n",
       " 'https://www.nytimes.com/1988/12/25/nyregion/l-treatment-facilities-for-crack-abusers-400388.html',\n",
       " 'https://www.nytimes.com/1988/12/18/nyregion/link-between-aids-and-drug-abuse-is-studied-in-state.html',\n",
       " 'https://www.nytimes.com/1988/12/16/nyregion/as-drug-trade-rises-in-hartford-so-does-violent-crime.html',\n",
       " 'https://www.nytimes.com/1988/12/09/us/washington-finds-drug-war-is-hardest-at-home.html',\n",
       " 'https://www.nytimes.com/1988/11/27/nyregion/police-tighten-selection-for-narcotics-program.html',\n",
       " 'https://www.nytimes.com/1988/11/27/us/speed-s-gain-in-use-could-rival-crack-drug-experts-warn.html',\n",
       " 'https://www.nytimes.com/1988/11/07/nyregion/in-113th-precinct-ambivalence-to-police.html',\n",
       " 'https://www.nytimes.com/1988/09/30/nyregion/new-drug-unit-checks-police-on-corruption.html',\n",
       " 'https://www.nytimes.com/1988/09/20/nyregion/aids-among-prostitutes-not-as-prevalent-as-believed-studies-show.html',\n",
       " 'https://www.nytimes.com/1988/09/07/us/concerns-about-aids-and-crime-spurring-push-to-expand-drug-treatment-programs.html',\n",
       " 'https://www.nytimes.com/1988/09/06/science/cocaine-litany-of-fetal-risks-grows.html',\n",
       " 'https://www.nytimes.com/1988/08/22/nyregion/mission-of-an-aids-unit-is-not-to-cure-but-to-care.html',\n",
       " 'https://www.nytimes.com/1988/07/25/nyregion/mystery-of-fouled-beaches-clues-but-no-smoking-gun.html',\n",
       " 'https://www.nytimes.com/1988/07/18/nyregion/the-talk-of-coney-island-faded-funland-fears-and-hopes.html',\n",
       " 'https://www.nytimes.com/1988/07/10/magazine/pushing-cigarettes-overseas.html',\n",
       " 'https://www.nytimes.com/1988/06/24/nyregion/against-drug-tide-only-a-holding-action.html',\n",
       " 'https://www.nytimes.com/1988/06/23/nyregion/addiction-s-hidden-toll-poor-families-in-turmoil.html',\n",
       " 'https://www.nytimes.com/1988/06/21/nyregion/at-a-jersey-high-school-drugs-are-now-confronted.html',\n",
       " 'https://www.nytimes.com/1988/06/10/nyregion/46th-street-restaurant-row-starts-guardian-angel-patrol.html',\n",
       " 'https://www.nytimes.com/1988/06/02/nyregion/metro-matters-ask-not-for-whom-the-beeper-tolls.html',\n",
       " 'https://www.nytimes.com/1988/05/31/nyregion/health-care-budget-cuts-in-new-york-are-assailed.html',\n",
       " 'https://www.nytimes.com/1988/05/11/us/in-a-quiet-setting-us-concludes-its-biggest-drug-trafficking-case.html',\n",
       " 'https://www.nytimes.com/1988/05/08/nyregion/in-brawley-inquiry-a-turn-to-drug-infested-streets.html',\n",
       " 'https://www.nytimes.com/1988/05/02/nyregion/young-crack-addicts-find-there-s-no-help-for-them.html',\n",
       " 'https://www.nytimes.com/1988/04/21/nyregion/crime-totals-confirm-fears-in-queens.html',\n",
       " 'https://www.nytimes.com/1988/03/23/nyregion/serious-crime-rises-again-in-new-york.html',\n",
       " 'https://www.nytimes.com/1988/03/11/nyregion/federal-city-effort-attacks-violent-brooklyn-drug-ring.html',\n",
       " 'https://www.nytimes.com/1988/03/02/nyregion/no-quick-arrests-seen-in-police-officer-s-killing.html',\n",
       " 'https://www.nytimes.com/1988/02/18/nyregion/crack-use-pervades-life-in-a-shelter.html',\n",
       " 'https://www.nytimes.com/1988/02/17/us/us-confronting-aids-with-sense-of-realism.html',\n",
       " 'https://www.nytimes.com/1988/02/16/us/recent-setbacks-stirring-doubts-about-search-for-aids-vaccine.html',\n",
       " 'https://www.nytimes.com/1988/02/15/sports/fitness-running-good-for-the-soul-too.html',\n",
       " 'https://www.nytimes.com/1988/02/07/nyregion/federal-drug-officials-skeptical-on-basuco.html',\n",
       " 'https://www.nytimes.com/1988/02/01/nyregion/weighing-of-2-perils-led-to-needles-for-addicts-plan.html',\n",
       " 'https://www.nytimes.com/1988/01/26/science/the-doctor-s-world-cocaine-s-many-dangers-the-evidence-mounts.html',\n",
       " 'https://www.nytimes.com/1989/11/04/nyregion/looking-to-the-next-mayor-to-fight-crack-and-build-hope.html',\n",
       " 'https://www.nytimes.com/1989/10/30/nyregion/news-summary-573289.html',\n",
       " 'https://www.nytimes.com/1989/10/30/us/learning-say-no-schools-drug-war-special-report-judgment-replaces-fear-drug.html',\n",
       " 'https://www.nytimes.com/1989/10/29/us/conference-on-black-theology-unites-scholars-and-pastors.html',\n",
       " 'https://www.nytimes.com/1989/10/28/nyregion/campaign-stop-harlem-dinkins-bid-rekindles-community-hope.html',\n",
       " 'https://www.nytimes.com/1989/10/22/nyregion/connecticut-opinion-alcohol-lurks-as-a-gateway-to-other-drugs.html',\n",
       " 'https://www.nytimes.com/1989/10/20/us/reality-intrudes-on-capital-drug-crusade.html',\n",
       " 'https://www.nytimes.com/1989/10/18/nyregion/rise-in-babies-hurt-by-drugs-is-predicted.html',\n",
       " 'https://www.nytimes.com/1989/10/15/us/new-york-limits-a-key-aids-test.html',\n",
       " 'https://www.nytimes.com/1989/10/02/nyregion/ward-years-leaving-a-mark-on-police.html',\n",
       " 'https://www.nytimes.com/1989/10/02/nyregion/inside-005989.html',\n",
       " 'https://www.nytimes.com/1989/09/24/nyregion/drug-abuse-to-be-focus-of-hearing.html',\n",
       " 'https://www.nytimes.com/1989/09/24/us/drug-strategy-real-goals-special-report-president-s-victory-over-drugs-decades.html',\n",
       " 'https://www.nytimes.com/1989/09/17/us/emergency-room-gridlock-on-the-verge-of-crisis.html',\n",
       " 'https://www.nytimes.com/1989/09/17/us/marshals-shield-suspects-and-judges-against-terror-attack-in-drug-cases.html',\n",
       " 'https://www.nytimes.com/1989/09/16/us/fear-grows-over-effects-of-a-new-smokable-drug.html',\n",
       " 'https://www.nytimes.com/1989/09/12/us/poll-finds-most-in-us-back-bush-strategy-on-drugs.html',\n",
       " 'https://www.nytimes.com/1989/09/09/us/influx-of-cocaine-in-us-has-slowed-drug-officials-say.html',\n",
       " 'https://www.nytimes.com/1989/09/07/nyregion/camden-forces-its-suburbs-to-ask-what-if-a-city-dies.html',\n",
       " 'https://www.nytimes.com/1989/09/03/us/capital-mayoral-race-turns-murkier.html',\n",
       " 'https://www.nytimes.com/1989/08/24/us/experts-finding-new-hope-on-treating-crack-addicts.html',\n",
       " 'https://www.nytimes.com/1989/08/20/nyregion/about-long-island-apple-agency-sees-a-turn-toward-acceptance.html',\n",
       " 'https://www.nytimes.com/1989/08/20/nyregion/crack-and-resurgence-of-syphilis-spreading-aids-among-the-poor.html',\n",
       " 'https://www.nytimes.com/1989/08/20/nyregion/news-sumary.html',\n",
       " 'https://www.nytimes.com/1989/08/20/us/a-neighborhood-wins-in-capital-s-drug-war.html',\n",
       " 'https://www.nytimes.com/1989/08/11/nyregion/mayoral-hopefuls-tiptoe-around-budget.html',\n",
       " 'https://www.nytimes.com/1989/08/01/nyregion/our-towns-two-stamfords-chirping-birds-or-gunfire.html',\n",
       " 'https://www.nytimes.com/1989/06/15/nyregion/brooklyn-9-year-old-starts-a-one-child-war-on-crack.html',\n",
       " 'https://www.nytimes.com/1989/06/04/nyregion/news-summary-503089.html',\n",
       " 'https://www.nytimes.com/1989/06/01/nyregion/new-york-s-worst-drug-sites-persistent-markets-of-death.html',\n",
       " 'https://www.nytimes.com/1989/05/15/nyregion/central-park-case-puts-focus-on-tough-juvenile-law.html',\n",
       " 'https://www.nytimes.com/1989/05/15/us/drug-wars-scar-capital-s-children.html',\n",
       " 'https://www.nytimes.com/1989/05/10/nyregion/crime-and-fear-follow-crack-into-hospitals.html',\n",
       " 'https://www.nytimes.com/1989/05/05/nyregion/aids-services-a-disjointed-network.html',\n",
       " 'https://www.nytimes.com/1989/05/03/us/aftermath-of-a-capital-drug-raid-cocaine-and-crime-flourish-still.html',\n",
       " 'https://www.nytimes.com/1989/05/02/science/grim-seeds-of-park-rampage-found-in-east-harlem-streets.html',\n",
       " 'https://www.nytimes.com/1989/04/23/weekinreview/the-region-aids-in-a-deficit-year-more-plans-than-money.html',\n",
       " 'https://www.nytimes.com/1989/04/19/us/new-twist-on-crack-in-florida.html',\n",
       " 'https://www.nytimes.com/1989/04/04/us/inner-problems-shackle-the-washington-police.html',\n",
       " 'https://www.nytimes.com/1989/03/28/us/capital-offers-a-ripe-market-to-drug-dealers.html',\n",
       " 'https://www.nytimes.com/1989/03/23/us/bush-takes-fight-against-drugs-to-pennsylvania-dutch-country.html',\n",
       " 'https://www.nytimes.com/1989/03/11/nyregion/about-new-york-kitty-genovese-would-new-york-still-turn-away.html',\n",
       " 'https://www.nytimes.com/1989/03/10/nyregion/federal-drug-agency-takes-center-stage.html',\n",
       " 'https://www.nytimes.com/1989/02/28/nyregion/addict-guilty-in-crack-rampage-killing.html',\n",
       " 'https://www.nytimes.com/1989/02/25/us/answers-to-quiz.html',\n",
       " 'https://www.nytimes.com/1989/02/22/nyregion/soldiers-in-the-crack-war-fighting-street-by-street.html',\n",
       " 'https://www.nytimes.com/1989/02/20/nyregion/after-3-years-crack-plague-in-new-york-only-gets-worse.html',\n",
       " 'https://www.nytimes.com/1989/02/17/nyregion/plight-of-poor-inspires-gifts-for-neediest.html',\n",
       " 'https://www.nytimes.com/1989/02/10/us/crack-epidemic-missing-chicago-in-urban-sweep.html',\n",
       " 'https://www.nytimes.com/1989/02/09/nyregion/destroyer-of-families-crack-besieges-a-court.html',\n",
       " 'https://www.nytimes.com/1989/02/08/us/flaws-in-health-care-system-emerge-as-epidemic-rages.html',\n",
       " 'https://www.nytimes.com/1989/02/03/nyregion/bureaucracy-and-big-repairs-stall-86-plan-for-drug-centers.html',\n",
       " 'https://www.nytimes.com/1989/02/03/us/gap-between-cost-of-drug-epidemic-and-state-money-shuts-california-clinic.html',\n",
       " 'https://www.nytimes.com/1989/01/09/us/crack-and-gunfire-come-to-a-quiet-place.html',\n",
       " 'https://www.nytimes.com/1990/12/27/nyregion/new-york-state-reports-a-drop-in-crack-traffic.html',\n",
       " 'https://www.nytimes.com/1990/12/19/nyregion/hospital-family-doctor-and-benefactor.html',\n",
       " 'https://www.nytimes.com/1990/12/17/nyregion/pregnant-drug-abusers-find-hope-in-program.html',\n",
       " 'https://www.nytimes.com/1990/12/16/nyregion/for-many-neediest-cases-fund-chance-hope-again-educational-program-helps.html',\n",
       " 'https://www.nytimes.com/1990/12/16/nyregion/urban-epidemic-addicts-aids-special-report-newark-spiral-drugs-aids.html',\n",
       " 'https://www.nytimes.com/1990/12/03/nyregion/chief-judge-says-crack-may-overwhelm-courts.html',\n",
       " 'https://www.nytimes.com/1990/11/23/nyregion/report-says-hospitals-need-money-and-help.html',\n",
       " 'https://www.nytimes.com/1990/11/18/nyregion/news-summary-821990.html',\n",
       " 'https://www.nytimes.com/1990/11/13/science/the-doctor-s-world-syphilis-fools-a-new-generation.html',\n",
       " 'https://www.nytimes.com/1990/10/27/us/6-months-in-jail-for-mayor-barry-in-cocaine-possession-conviction.html',\n",
       " 'https://www.nytimes.com/1990/10/09/nyregion/after-3-years-gains-in-decade-of-the-child-are-isolated.html',\n",
       " 'https://www.nytimes.com/1990/10/07/nyregion/when-singles-meet-they-do-more-than-party.html',\n",
       " 'https://www.nytimes.com/1990/09/27/nyregion/new-york-told-to-hire-advisers-on-drug-abuse.html',\n",
       " 'https://www.nytimes.com/1990/09/23/nyregion/hale-house-fights-city-hall-on-babies-care.html',\n",
       " 'https://www.nytimes.com/1990/07/23/nyregion/old-weak-and-a-loser-crack-user-s-image-falls.html',\n",
       " 'https://www.nytimes.com/1990/07/21/nyregion/heroin-is-making-comeback-in-lethal-tandem-with-crack.html',\n",
       " 'https://www.nytimes.com/1990/07/15/us/return-tb-special-report-tuberculosis-germ-resurging-risk-public-health.html',\n",
       " 'https://www.nytimes.com/1990/07/05/us/health-cheating-insurance-insurers-say-growing-fraud-health-care-costs-billions.html',\n",
       " 'https://www.nytimes.com/1990/07/01/us/us-cocaine-epidemic-shows-signs-of-waning.html',\n",
       " 'https://www.nytimes.com/1990/06/27/us/us-is-by-far-the-homicide-capital-of-the-industrialized-nations.html',\n",
       " 'https://www.nytimes.com/1990/06/21/us/aids-conference-is-told-danger-of-disease-is-spreading-in-us.html',\n",
       " 'https://www.nytimes.com/1990/06/13/nyregion/stray-bullet-leaves-a-harlem-oasis-feeling-vulnerable-and-angry.html',\n",
       " 'https://www.nytimes.com/1990/06/04/us/after-a-decade-of-drug-accusations-mayor-barry-s-day-in-court-arrives.html',\n",
       " 'https://www.nytimes.com/1990/05/25/us/children-crack-are-schools-ready-special-report-crack-babies-turn-5-schools.html',\n",
       " 'https://www.nytimes.com/1990/05/09/nyregion/news-summary-159790.html',\n",
       " 'https://www.nytimes.com/1990/05/06/nyregion/new-concern-voiced-on-spread-of-aids.html',\n",
       " 'https://www.nytimes.com/1990/05/01/science/spread-of-aids-by-heterosexuals-remains-slow.html',\n",
       " 'https://www.nytimes.com/1990/04/25/nyregion/news-summary-485890.html',\n",
       " 'https://www.nytimes.com/1990/03/31/nyregion/killings-in-89-set-a-record-in-new-york.html',\n",
       " 'https://www.nytimes.com/1990/03/28/nyregion/about-new-york-a-heavy-burden-burying-eileen-sam-liz-and-f-c.html',\n",
       " 'https://www.nytimes.com/1990/03/17/us/the-instincts-of-parenthood-become-part-of-crack-s-toll.html',\n",
       " 'https://www.nytimes.com/1990/03/05/nyregion/harlem-fights-angrily-to-keep-a-maternity-ward-in-st-luke-s.html',\n",
       " 'https://www.nytimes.com/1990/02/04/nyregion/east-harlem-sees-slain-boy-as-victim-of-drug-epidemic.html',\n",
       " 'https://www.nytimes.com/1990/01/31/us/drug-laced-air-called-risk-to-babies.html',\n",
       " 'https://www.nytimes.com/1990/01/27/us/washington-drug-inquiry-sought.html',\n",
       " 'https://www.nytimes.com/1990/01/20/us/for-mayor-barry-hope-and-promise-crumble-under-weight-of-charges.html',\n",
       " 'https://www.nytimes.com/1990/01/12/nyregion/new-york-city-study-of-motorists-killed-finds-tie-to-cocaine.html',\n",
       " 'https://www.nytimes.com/1990/01/01/nyregion/metro-matters-decade-s-misery-and-strengths-greet-the-mayor.html',\n",
       " 'https://www.nytimes.com/1991/11/17/nyregion/fearing-aids-users-of-heroin-shift-to-inhaling-drug.html',\n",
       " 'https://www.nytimes.com/1991/11/15/nyregion/how-gotti-s-no-2-gangster-turned-his-coat.html',\n",
       " 'https://www.nytimes.com/1991/11/01/nyregion/policing-new-haven-patrols-politics-special-report-chief-with-high-profile-uses.html',\n",
       " 'https://www.nytimes.com/1991/10/20/nyregion/aids-residence-housing-families-faces-review.html',\n",
       " 'https://www.nytimes.com/1991/10/01/nyregion/drugs-not-just-an-urban-problem-study-finds.html',\n",
       " 'https://www.nytimes.com/1991/09/19/nyregion/plan-lets-addicted-mothers-take-their-newborns-home.html',\n",
       " 'https://www.nytimes.com/1991/09/02/us/lower-mortality-rate-masks-lag-on-infant-health.html',\n",
       " 'https://www.nytimes.com/1991/08/11/nyregion/long-island-q-rev-coleman-costello-trying-help-young-people-quagmire-drugs.html',\n",
       " 'https://www.nytimes.com/1991/08/08/us/jim-crow-s-ghost-savannah-civil-rights-special-report-ways-older-south-linger.html',\n",
       " 'https://www.nytimes.com/1991/06/23/weekinreview/q-a-a-mecca-for-disaster-in-an-urban-battle-zone-a-doctor-calls-it-quits.html',\n",
       " 'https://www.nytimes.com/1991/06/18/science/experts-debate-if-aids-epidemic-has-at-last-crested-in-us.html',\n",
       " 'https://www.nytimes.com/1991/06/18/nyregion/news-summary-671291.html',\n",
       " 'https://www.nytimes.com/1991/05/16/nyregion/crack-dealer-feeds-a-family-and-habits-of-fewer-addicts.html',\n",
       " 'https://www.nytimes.com/1991/05/12/nyregion/international-calamities-tax-america-s-compassion.html',\n",
       " 'https://www.nytimes.com/1991/04/20/nyregion/cocaine-use-and-infant-mortality-decline-together-in-new-york-city.html',\n",
       " 'https://www.nytimes.com/1991/04/14/us/grandparents-unite-amid-drug-war.html',\n",
       " 'https://www.nytimes.com/1991/04/06/nyregion/in-a-crack-house-dinner-and-drugs-on-the-stove.html',\n",
       " 'https://www.nytimes.com/1991/03/16/us/from-toys-to-tv-drug-fight-grows.html',\n",
       " 'https://www.nytimes.com/1991/02/23/us/putting-faith-over-the-law-as-pupils-die.html',\n",
       " 'https://www.nytimes.com/1991/02/17/us/town-s-good-reputation-has-become-its-problem.html',\n",
       " 'https://www.nytimes.com/1991/02/07/us/born-on-crack-and-coping-with-kindergarten.html',\n",
       " 'https://www.nytimes.com/1991/02/04/nyregion/craving-for-better-high-is-synthetics-fatal-lure.html',\n",
       " 'https://www.nytimes.com/1991/02/03/nyregion/after-6-addicts-die-police-in-northeast-warn-of-toxic-drug.html',\n",
       " 'https://www.nytimes.com/1991/01/30/us/wait-for-a-bed-at-public-hospital-can-be-days.html',\n",
       " 'https://www.nytimes.com/1992/12/20/us/clara-hale-87-who-aided-addicts-babies-dies.html',\n",
       " 'https://www.nytimes.com/1992/12/19/us/clara-hale-founder-of-home-for-addicts-babies-dies-at-87.html',\n",
       " 'https://www.nytimes.com/1992/12/06/magazine/off-the-couch.html',\n",
       " 'https://www.nytimes.com/1992/11/23/us/syphilis-cases-among-newborns-climb-with-the-rise-in-crack-use.html',\n",
       " 'https://www.nytimes.com/1992/11/20/nyregion/shoulder-surfing-life-in-phone-credit-card-theft.html',\n",
       " 'https://www.nytimes.com/1992/10/22/us/1992-campaign-issues-drug-problem-candidates-seek-little-change-antidrug-efforts.html',\n",
       " 'https://www.nytimes.com/1992/10/14/nyregion/tb-carriers-see-clash-of-liberty-and-health.html',\n",
       " 'https://www.nytimes.com/1992/10/03/us/1992-campaign-off-trail-visits-with-americans-campaign-fraud-urban-underclass.html',\n",
       " 'https://www.nytimes.com/1992/10/01/nyregion/the-world-of-a-drug-bazaar-where-hope-has-burned-out.html',\n",
       " 'https://www.nytimes.com/1992/09/22/nyregion/for-better-business-prostitutes-leave-manhattan-for-jersey-city.html',\n",
       " 'https://www.nytimes.com/1992/09/14/nyregion/park-workers-crack-down-on-violations.html',\n",
       " 'https://www.nytimes.com/1992/09/08/nyregion/troubled-children-flood-ill-prepared-care-system.html',\n",
       " 'https://www.nytimes.com/1992/09/03/nyregion/news-summary-026092.html',\n",
       " 'https://www.nytimes.com/1992/08/10/nyregion/on-stolen-wheels-newark-youths-defy-authority.html',\n",
       " 'https://www.nytimes.com/1992/08/06/nyregion/seeking-revival-in-no-man-s-land-of-the-drug-war.html',\n",
       " 'https://www.nytimes.com/1992/07/28/us/1992-campaign-candidates-records-four-years-bush-s-drug-war-new-funds-but-old.html',\n",
       " 'https://www.nytimes.com/1992/07/26/us/hospitals-housing-healthy-infants.html',\n",
       " 'https://www.nytimes.com/1992/07/13/nyregion/west-162d-street-despair-special-report-broken-dreams-drugs-gunfire-living-along.html',\n",
       " 'https://www.nytimes.com/1992/07/05/nyregion/on-the-street-drug-gangs-thrive-as-arsenals-expand.html',\n",
       " 'https://www.nytimes.com/1992/03/28/nyregion/news-summary-022592.html',\n",
       " 'https://www.nytimes.com/1992/03/22/nyregion/theater-poems-on-the-politics-of-seduction.html',\n",
       " 'https://www.nytimes.com/1992/02/18/nyregion/a-child-dies-an-aunt-is-accused-and-haunting-questions-remain.html',\n",
       " 'https://www.nytimes.com/1992/02/17/nyregion/teen-age-gunslinging-rises-seeking-protection-and-profit.html',\n",
       " 'https://www.nytimes.com/1992/01/19/weekinreview/a-resurgence-of-plagues-and-pestilences-of-yesteryear.html',\n",
       " 'https://www.nytimes.com/1992/01/17/nyregion/news-summary-861892.html',\n",
       " 'https://www.nytimes.com/1992/01/14/nyregion/colombia-s-drug-lords-add-new-product-heroin-for-us.html',\n",
       " 'https://www.nytimes.com/1993/12/19/nyregion/court-ruling-could-alter-drug-cases.html',\n",
       " 'https://www.nytimes.com/1993/11/21/nyregion/confining-tuberculosis-patients-weighing-rights-vs-health-risks.html',\n",
       " 'https://www.nytimes.com/1993/10/27/health/a-bizarre-drug-tested-in-the-hope-of-helping-drug-addicts.html',\n",
       " 'https://www.nytimes.com/1993/10/11/nyregion/dinkins-and-giuliani-split-on-public-safety-issues.html',\n",
       " 'https://www.nytimes.com/1993/10/11/nyregion/metro-digest-375293.html',\n",
       " 'https://www.nytimes.com/1993/10/07/nyregion/head-of-new-york-police-offers-compromise-on-outside-monitor.html',\n",
       " 'https://www.nytimes.com/1993/09/26/nyregion/police-corruption-panel-goes-public-this-week.html',\n",
       " 'https://www.nytimes.com/1993/09/19/nyregion/on-sunday-staten-island-can-t-secede-from-aids.html',\n",
       " 'https://www.nytimes.com/1993/08/24/nyregion/public-advocate-denounces-state-s-new-car-theft-laws.html',\n",
       " 'https://www.nytimes.com/1993/06/12/world/little-progress-seen-in-effort-to-crack-aids-puzzle.html',\n",
       " 'https://www.nytimes.com/1993/04/22/nyregion/prosecutor-says-parole-officer-aided-drug-gang-leading-to-dealer-s-killing.html',\n",
       " 'https://www.nytimes.com/1993/04/11/nyregion/promise-and-despair-share-project.html',\n",
       " 'https://www.nytimes.com/1993/04/04/nyregion/a-brooklyn-precinct-crime-figures-send-a-complex-message.html',\n",
       " 'https://www.nytimes.com/1993/03/28/nyregion/drug-ring-trial-lurches-toward-a-start.html',\n",
       " 'https://www.nytimes.com/1993/03/19/nyregion/crime-down-in-new-york-for-2d-year-in-row.html',\n",
       " 'https://www.nytimes.com/1993/01/31/us/teen-age-gangs-are-inflicting-lethal-violence-on-small-cities.html',\n",
       " 'https://www.nytimes.com/1993/01/13/us/as-crime-rises-puerto-ricans-retreat.html',\n",
       " 'https://www.nytimes.com/1994/12/30/us/programs-seek-to-stop-trouble-before-it-starts.html',\n",
       " 'https://www.nytimes.com/1994/12/22/nyregion/report-finds-the-limbo-of-foster-care-is-growing-longer.html',\n",
       " 'https://www.nytimes.com/1994/12/13/us/when-trouble-starts-young-periodic-report-examining-causes-crack-s-legacy-guns.html',\n",
       " 'https://www.nytimes.com/1994/12/09/nyregion/murder-troubled-young-lives-behind-holdup-3-suspects-growing-up-grim-housing.html',\n",
       " 'https://www.nytimes.com/1994/11/03/nyregion/the-1994-campaign-the-ad-campaigns-race-for-governor-cuomo-recounts-tough-times.html',\n",
       " 'https://www.nytimes.com/1994/10/30/world/health-care-cuba-s-pride-falls-on-hard-times.html',\n",
       " 'https://www.nytimes.com/1994/10/14/us/teen-age-homicide-rate-has-soared.html',\n",
       " 'https://www.nytimes.com/1994/10/09/nyregion/neighborhood-report-harlem-when-babies-die-what-the-numbers-mean.html',\n",
       " 'https://www.nytimes.com/1994/09/14/nyregion/giuliani-cites-drop-in-crime-in-assessment.html',\n",
       " 'https://www.nytimes.com/1994/08/25/nyregion/stopping-blight-border-two-paths-for-ridgewood-queens-bushwick-brooklyn.html',\n",
       " 'https://www.nytimes.com/1994/08/18/world/amid-rwanda-s-misery-charity-battles-despair.html',\n",
       " 'https://www.nytimes.com/1994/07/22/world/the-rwanda-disaster-the-scene-cholera-stalks-the-rwandan-refugees.html',\n",
       " 'https://www.nytimes.com/1994/07/21/nyregion/study-finds-more-drug-use-but-less-concern-about-it.html',\n",
       " 'https://www.nytimes.com/1994/07/03/nyregion/a-bill-to-require-hiv-counseling-backed-in-albany.html',\n",
       " 'https://www.nytimes.com/1994/06/12/nyregion/at-sro-s-quality-varies-yet-squalor-is-common.html',\n",
       " 'https://www.nytimes.com/1994/05/26/nyregion/stray-gunfire-kills-man-in-bronx.html',\n",
       " 'https://www.nytimes.com/1994/05/08/us/fast-lane-killer-special-report-heroin-finds-new-market-along-cutting-edge-style.html',\n",
       " 'https://www.nytimes.com/1994/03/21/nyregion/gay-leaders-say-good-will-for-giuliani-has-dissipated.html',\n",
       " 'https://www.nytimes.com/1994/03/09/us/survey-finds-decrease-in-anti-gay-violence.html',\n",
       " 'https://www.nytimes.com/1994/03/07/nyregion/weighing-caution-against-compassion.html',\n",
       " 'https://www.nytimes.com/1994/02/17/nyregion/new-standards-for-drug-cases-anger-prosecutors.html',\n",
       " 'https://www.nytimes.com/1994/01/30/nyregion/in-new-haven-taking-action-against-aids.html',\n",
       " 'https://www.nytimes.com/1994/01/22/nyregion/about-new-york-and-oh-how-the-many-have-fallen.html',\n",
       " 'https://www.nytimes.com/1994/01/09/nyregion/drug-dealer-is-sentenced-to-life-for-ordering-killing-of-officer.html',\n",
       " 'https://www.nytimes.com/1995/12/27/nyregion/news-summary-040487.html',\n",
       " 'https://www.nytimes.com/1995/12/24/nyregion/seven-warnings-special-report-she-suffered-plain-sight-but-alarms-were-ignored.html',\n",
       " 'https://www.nytimes.com/1995/12/19/science/doctor-s-world-when-doctors-patients-decide-test-far-limits-treatment.html',\n",
       " 'https://www.nytimes.com/1995/12/07/nyregion/metro-matters-investigating-child-welfare-what-s-new.html',\n",
       " 'https://www.nytimes.com/1995/12/03/nyregion/new-inmates-reflect-surge-in-use-of-cheap-but-potent-heroin.html',\n",
       " 'https://www.nytimes.com/1995/11/19/us/crime-continues-to-decline-but-experts-warn-of-coming-storm-ofjuvenile-violence.html',\n",
       " 'https://www.nytimes.com/1995/11/19/nyregion/the-commissioner-vs-the-criminologists.html',\n",
       " 'https://www.nytimes.com/1995/10/29/nyregion/neighborhood-report-flushing-amid-battle-against-brothels-call-license.html',\n",
       " 'https://www.nytimes.com/1995/10/16/nyregion/panel-presses-to-combat-drug-use-in-pregnancy.html',\n",
       " 'https://www.nytimes.com/1995/10/08/us/study-discounts-the-role-of-drug-users-in-gun-related-crime.html',\n",
       " 'https://www.nytimes.com/1995/09/22/nyregion/death-penalty-law-is-not-easy-to-apply.html',\n",
       " 'https://www.nytimes.com/1995/08/06/nyregion/new-jersey-co-croissants-a-clam-bar-is-this-the-port-authority-terminal.html',\n",
       " 'https://www.nytimes.com/1995/07/09/nyregion/in-one-part-of-bronx-gunfire-has-eased.html',\n",
       " 'https://www.nytimes.com/1995/07/08/nyregion/murder-rate-plunges-in-new-york-city.html',\n",
       " 'https://www.nytimes.com/1995/07/04/nyregion/warehouse-of-addiction-a-change-in-governors-stalls-model-drug-program-in-texas.html',\n",
       " 'https://www.nytimes.com/1995/07/02/nyregion/warehouse-of-addiction-bars-don-t-stop-flow-of-drugs-into-the-prisons.html',\n",
       " 'https://www.nytimes.com/1995/06/10/nyregion/a-hero-s-precinct-is-in-hot-water.html',\n",
       " 'https://www.nytimes.com/1995/03/15/nyregion/burglaries-show-big-decline-in-new-york-city.html',\n",
       " 'https://www.nytimes.com/1995/03/13/us/gop-seeks-shift-in-child-welfare.html',\n",
       " 'https://www.nytimes.com/1995/03/05/nyregion/neighborhood-report-midtown-shoppers-choice-the-bus-terminal.html',\n",
       " 'https://www.nytimes.com/1995/02/28/science/new-picture-of-who-will-get-aids-is-dominated-by-addicts.html',\n",
       " 'https://www.nytimes.com/1995/02/12/us/washington-buckling-under-home-rule.html',\n",
       " 'https://www.nytimes.com/1995/01/14/nyregion/a-casulty-of-deficit-center-for-addicts.html',\n",
       " 'https://www.nytimes.com/1995/01/02/nyregion/making-days-live-face-death-aids-residence-nurse-helps-poor-drug-addicted.html',\n",
       " 'https://www.nytimes.com/1995/01/01/nyregion/new-york-city-crime-falls-but-just-why-is-a-mystery.html',\n",
       " 'https://www.nytimes.com/1996/12/29/nyregion/steep-drop-in-random-killings-signals-shift-in-new-york-crime.html',\n",
       " 'https://www.nytimes.com/1996/11/25/nyregion/2-die-as-woman-hurls-children-and-herself-off-bronx-building.html',\n",
       " 'https://www.nytimes.com/1996/11/16/us/cia-chief-visits-watts-to-counter-crack-talk.html',\n",
       " 'https://www.nytimes.com/1996/10/21/us/though-evidence-is-thin-tale-of-cia-and-drugs-has-a-life-of-its-own.html',\n",
       " 'https://www.nytimes.com/1996/10/14/us/gun-violence-may-be-subsiding-studies-find.html',\n",
       " 'https://www.nytimes.com/1996/10/02/nyregion/reported-crimes-continue-to-show-decline.html',\n",
       " 'https://www.nytimes.com/1996/09/16/nyregion/news-summary-350435.html',\n",
       " 'https://www.nytimes.com/1996/09/16/nyregion/boarder-babies-languish.html',\n",
       " 'https://www.nytimes.com/1996/09/16/nyregion/metro-digest-347710.html',\n",
       " 'https://www.nytimes.com/1996/09/16/nyregion/in-new-jersey-infants-languish-in-hospitals.html',\n",
       " 'https://www.nytimes.com/1996/09/08/nyregion/heroin-moves-in-on-a-new-generation.html',\n",
       " 'https://www.nytimes.com/1996/08/09/us/after-a-decade-juvenile-crime-begins-to-drop.html',\n",
       " 'https://www.nytimes.com/1996/06/30/us/illness-outbreak-puzzles-officials.html',\n",
       " 'https://www.nytimes.com/1996/06/19/nyregion/case-of-zodiac-gunman-sparked-panic-in-1990.html',\n",
       " 'https://www.nytimes.com/1996/05/06/us/major-crimes-fell-in-95-early-data-by-fbi-indicate.html',\n",
       " 'https://www.nytimes.com/1996/03/17/us/many-states-fail-to-fulfill-child-welfare.html',\n",
       " 'https://www.nytimes.com/1996/03/12/nyregion/officials-seek-wider-powers-to-seize-children-in-drug-homes.html',\n",
       " 'https://www.nytimes.com/1996/03/04/nyregion/fighting-police-corruption-use-of-new-strategies-provokes-new-questions.html',\n",
       " 'https://www.nytimes.com/1996/02/22/us/good-people-go-bad-in-iowa-and-a-drug-is-being-blamed.html',\n",
       " 'https://www.nytimes.com/1996/02/20/us/marijuana-use-by-youths-continues-to-rise.html',\n",
       " 'https://www.nytimes.com/1996/01/26/nyregion/bratton-says-cuts-won-t-hurt.html',\n",
       " 'https://www.nytimes.com/1997/12/19/us/cia-says-it-has-found-no-link-between-itself-and-crack-trade.html',\n",
       " 'https://www.nytimes.com/1997/11/20/us/drawer-people-special-report-newest-challenge-for-welfare-helping-hard-core.html',\n",
       " 'https://www.nytimes.com/1997/11/16/us/number-of-victims-of-crime-fell-again-in-96-study-says.html',\n",
       " 'https://www.nytimes.com/1997/11/04/us/long-behind-louisville-is-experiencing-a-surge.html',\n",
       " 'https://www.nytimes.com/1997/11/03/nyregion/suspect-in-spread-of-aids-virus-to-be-sentenced-on-drug-charge.html',\n",
       " 'https://www.nytimes.com/1997/10/31/nyregion/circle-widens-in-case-of-man-accused-of-spreading-hiv.html',\n",
       " 'https://www.nytimes.com/1997/10/30/nyregion/after-childhood-of-violence-a-one-man-hiv-epidemic.html',\n",
       " 'https://www.nytimes.com/1997/10/27/nyregion/news-summary-818640.html',\n",
       " 'https://www.nytimes.com/1997/10/27/us/drop-in-homicide-rate-linked-to-crack-s-decline.html',\n",
       " 'https://www.nytimes.com/1997/10/12/us/property-crimes-steadily-decline-led-by-burglary.html',\n",
       " 'https://www.nytimes.com/1997/10/05/nyregion/the-public-schools-struggle-to-survive.html',\n",
       " 'https://www.nytimes.com/1997/10/05/us/serious-crime-has-declined-for-fifth-year-fbi-says.html',\n",
       " 'https://www.nytimes.com/1997/09/07/nyregion/helping-addicts-to-resist-temptation.html',\n",
       " 'https://www.nytimes.com/1997/08/17/nyregion/where-has-your-neighborhood-drug-dealer-gone.html',\n",
       " 'https://www.nytimes.com/1997/07/23/nyregion/do-words-or-policies-protect-immigrants.html',\n",
       " 'https://www.nytimes.com/1997/07/21/us/with-juvenile-courts-in-chaos-some-propose-scrapping-them.html',\n",
       " 'https://www.nytimes.com/1997/06/12/nyregion/foster-care-system-is-so-strained-children-sleep-in-agency-offices.html',\n",
       " 'https://www.nytimes.com/1997/05/15/us/accusations-of-cia-ties-to-drug-ring-are-renewed.html',\n",
       " 'https://www.nytimes.com/1997/05/13/us/expose-on-crack-was-flawed-paper-says.html',\n",
       " 'https://www.nytimes.com/1997/05/13/us/excerpts-from-letter-by-san-jose-editor.html',\n",
       " 'https://www.nytimes.com/1997/04/29/us/priority-on-safety-is-keeping-more-children-in-foster-care.html',\n",
       " 'https://www.nytimes.com/1997/04/27/nyregion/delay-by-city-over-firetraps-is-questioned.html',\n",
       " 'https://www.nytimes.com/1997/04/20/nyregion/drug-cartels-from-mexico-make-inroads.html',\n",
       " 'https://www.nytimes.com/1997/03/16/nyregion/mirroring-a-nationwide-trend-crime-on-island-drops-sharply.html',\n",
       " 'https://www.nytimes.com/1998/12/28/us/decline-of-violent-crimes-is-linked-to-crack-market.html',\n",
       " 'https://www.nytimes.com/1998/12/24/nyregion/homicides-decline-below-1964-level-in-new-york-city.html',\n",
       " 'https://www.nytimes.com/1998/12/07/nyregion/despite-city-crackdown-illegal-and-overcrowded-apartments-survive.html',\n",
       " 'https://www.nytimes.com/1998/11/11/nyregion/city-and-state-to-pay-49-million-to-settle-foster-care-fraud-suit.html',\n",
       " 'https://www.nytimes.com/1998/09/18/nyregion/reports-of-anti-gay-crimes-increase-by-81-percent.html',\n",
       " 'https://www.nytimes.com/1998/09/18/nyregion/for-affluent-blacks-harlem-s-pull-is-strong.html',\n",
       " 'https://www.nytimes.com/1998/08/23/nyregion/rape-resists-the-inroads-of-the-city-s-war-on-crime.html',\n",
       " 'https://www.nytimes.com/1998/08/16/nyregion/nj-law-crime-drops-for-third-year-in-row-a-national-trend-and-reasons-abound.html',\n",
       " 'https://www.nytimes.com/1998/08/09/nyregion/new-spell-for-alphabet-city-gentrification-led-unrest-tompkins-square-10-years.html',\n",
       " 'https://www.nytimes.com/1998/06/21/nyregion/on-politics-rocking-cradle-and-boat-to-help-boarder-babies.html',\n",
       " 'https://www.nytimes.com/1998/06/05/us/many-women-60-and-older-abuse-alcohol-and-prescribed-drugs-study-says.html',\n",
       " 'https://www.nytimes.com/1998/05/11/nyregion/dominican-drug-traffickers-tighten-grip-on-the-northeast.html',\n",
       " 'https://www.nytimes.com/1998/04/12/nyregion/heroin-in-your-backyard.html',\n",
       " 'https://www.nytimes.com/1998/04/10/nyregion/24-arrested-on-drug-charges-in-old-gang-s-queens-territory.html',\n",
       " 'https://www.nytimes.com/1998/04/10/us/flush-but-crime-wary-cities-bid-up-pay-for-police-chiefs.html',\n",
       " 'https://www.nytimes.com/1998/03/29/us/reason-for-dramatic-drop-in-crime-puzzles-the-experts.html',\n",
       " 'https://www.nytimes.com/1998/03/28/nyregion/hip-hop-idol-pride-people-young-haitian-americans-get-help-against-stigma.html',\n",
       " 'https://www.nytimes.com/1998/03/09/us/us-awakes-to-epidemic-of-sexual-diseases.html',\n",
       " 'https://www.nytimes.com/1998/01/28/us/state-union-text-republican-response-senator-lott-clinton-s-address.html',\n",
       " 'https://www.nytimes.com/1998/01/28/us/state-union-transcript-state-union-message-president-clinton.html',\n",
       " 'https://www.nytimes.com/1998/01/25/nyregion/breaking-the-hiv-chain-counselors-battle-spread-of-infection-and-despair.html',\n",
       " 'https://www.nytimes.com/1998/01/18/nyregion/news-summary-134031.html']"
      ]
     },
     "execution_count": 21,
     "metadata": {},
     "output_type": "execute_result"
    }
   ],
   "source": [
    "cocaine_list # checking the lists for URLs that throw a wrench in the final scrub"
   ]
  },
  {
   "cell_type": "code",
   "execution_count": 22,
   "metadata": {
    "collapsed": true
   },
   "outputs": [],
   "source": [
    "removal_list = [ # creating a list of those removed URLs from the several analyses run\n",
    " 'https://learning.blogs.nytimes.com/1999/08/23/american-media-addicted-to-scandal/',\n",
    " 'https://learning.blogs.nytimes.com/1999/06/08/fighting-fire-with-fire/', \n",
    " 'https://well.blogs.nytimes.com/2012/10/01/addicted-to-painkillers-but-not-ready-for-help/',\n",
    " 'https://www.nytimes.com/video/health/policy/100000005515818/the-opioid-epidemic-what-you-need-to-know.html',\n",
    " 'https://learning.blogs.nytimes.com/2000/08/30/children-on-the-street/',\n",
    " 'https://learning.blogs.nytimes.com/2000/08/23/seeking-a-new-life/', \n",
    " 'https://query.nytimes.com/gst/fullpage.html?res=9C05E1DF113FF93AA15752C0A9609C8B63',\n",
    " 'https://www.nytimes.com/video/us/100000002340382/a-deadly-dance.html',\n",
    " 'https://www.nytimes.com/2013/08/18/nyregion/talking-bloomberg.html',\n",
    " 'https://learning.blogs.nytimes.com/2013/06/17/word-of-the-day-insolence/',\n",
    " 'https://query.nytimes.com/gst/fullpage.html?res=9B0DE2D61530F934A1575AC0A9639C8B63',\n",
    " 'https://query.nytimes.com/gst/fullpage.html?res=940DE6D8103FF932A05754C0A9639C8B63',\n",
    " 'https://query.nytimes.com/gst/fullpage.html?res=9F00E7DD123FF93AA25753C1A9639C8B63',\n",
    " 'https://query.nytimes.com/gst/fullpage.html?res=9F04EED61430F936A1575AC0A9639C8B63',\n",
    " 'https://query.nytimes.com/gst/fullpage.html?res=9D04EFDF1131F930A2575AC0A9639C8B63',\n",
    " 'https://query.nytimes.com/gst/fullpage.html?res=9F0CE0DF173CF937A35752C1A9629C8B63',\n",
    " 'https://query.nytimes.com/gst/fullpage.html?res=9F00E3D8173CF937A35752C1A9629C8B63',\n",
    " 'https://query.nytimes.com/gst/fullpage.html?res=9805E0DE103AF933A15753C1A9629C8B63',\n",
    " 'https://query.nytimes.com/gst/fullpage.html?res=9803E1DA173AF936A25753C1A9629C8B63',\n",
    " 'https://query.nytimes.com/gst/fullpage.html?res=9D01E5D9153BF93BA35753C1A9629C8B63',\n",
    " 'https://query.nytimes.com/gst/fullpage.html?res=9D0CE3DE1731F936A15752C1A9639C8B63',\n",
    " 'https://query.nytimes.com/gst/fullpage.html?res=9802EFD61E3FF93AA15753C1A9639C8B63',\n",
    " 'https://query.nytimes.com/gst/fullpage.html?res=9A01E2DE103FF930A15753C1A9639C8B63',\n",
    " 'https://learning.blogs.nytimes.com/2014/12/16/special-news-quiz-farewell-2014/',\n",
    " 'https://query.nytimes.com/gst/fullpage.html?res=9D03E1D7173EF932A25750C0A9679D8B63',\n",
    " 'https://query.nytimes.com/gst/fullpage.html?res=950DE7D7103BF931A25754C0A9669D8B63',\n",
    " 'https://query.nytimes.com/gst/fullpage.html?res=9404E3DB1E30F93AA35756C0A96F9C8B63',\n",
    " 'https://query.nytimes.com/gst/fullpage.html?res=9C03E1D8143EF931A25757C0A96F9C8B63',\n",
    " 'https://query.nytimes.com/gst/fullpage.html?res=9A05E7DD1E3BF93BA35750C0A96F9C8B63',\n",
    " 'https://query.nytimes.com/gst/fullpage.html?res=9C0CE5D91030F936A25756C0A9639C8B63',\n",
    " 'https://query.nytimes.com/gst/fullpage.html?res=9D05E5DA103EF934A25757C0A9639C8B63',\n",
    " 'https://query.nytimes.com/gst/fullpage.html?res=9502E0D7123FF930A15753C1A9639C8B63',\n",
    " 'https://query.nytimes.com/gst/fullpage.html?res=9A04EFDE173FF935A25753C1A9639C8B63',\n",
    " 'https://query.nytimes.com/gst/fullpage.html?res=9C0CE1D91331F934A2575AC0A9609C8B63',\n",
    " 'https://query.nytimes.com/gst/fullpage.html?res=9C07E7D91739F933A05751C1A9629C8B63',\n",
    " 'https://query.nytimes.com/gst/fullpage.html?res=9404E0D91F30F93BA15751C1A9629C8B63', \n",
    " 'https://query.nytimes.com/gst/fullpage.html?res=9D03E4D71130F936A15751C1A9629C8B63', \n",
    " 'https://query.nytimes.com/gst/fullpage.html?res=9802E3DB1430F93AA25751C1A9629C8B63', \n",
    " 'https://query.nytimes.com/gst/fullpage.html?res=9F0CE1D91530F93BA25751C1A9629C8B63',\n",
    " 'https://query.nytimes.com/gst/fullpage.html?res=9E06E6DD1530F934A25751C1A9629C8B63', \n",
    " 'https://query.nytimes.com/gst/fullpage.html?res=9B06E0DA1031F931A25751C1A9629C8B63', \n",
    " 'https://query.nytimes.com/gst/fullpage.html?res=9A0DE7D71031F933A25751C1A9629C8B63', \n",
    " 'https://query.nytimes.com/gst/fullpage.html?res=9904E1DF1230F936A15751C1A9639C8B63', \n",
    " 'https://query.nytimes.com/gst/fullpage.html?res=9B07E2DA1430F931A15751C1A9639C8B63', \n",
    " 'https://query.nytimes.com/gst/fullpage.html?res=9402E2D61730F932A15751C1A9639C8B63',\n",
    " 'https://query.nytimes.com/gst/fullpage.html?res=9B07E1DF1730F93BA25751C1A9639C8B63',\n",
    " 'https://query.nytimes.com/gst/fullpage.html?res=9503E2DA1630F93BA25751C1A9639C8B63', \n",
    " 'https://learning.blogs.nytimes.com/2003/05/20/deep-thoughts/', \n",
    " 'https://learning.blogs.nytimes.com/2002/11/11/closing-the-gaps/', \n",
    " 'https://learning.blogs.nytimes.com/2001/06/26/the-wind-up-and-the-pitch/',\n",
    " 'https://learning.blogs.nytimes.com/2001/04/06/when-arts-a-craft/', \n",
    " 'https://learning.blogs.nytimes.com/2000/06/19/true-crime/', \n",
    " 'https://learning.blogs.nytimes.com/2000/11/14/constant-craving/',\n",
    " 'https://learning.blogs.nytimes.com/1999/12/10/begging-for-another-chance/', \n",
    " 'https://learning.blogs.nytimes.com/2000/06/19/true-crime/', \n",
    " 'https://learning.blogs.nytimes.com/2001/03/13/substance-use-or-abuse/',\n",
    " 'https://learning.blogs.nytimes.com/2002/04/30/this-is-your-brain-on-pot/',\n",
    " 'https://learning.blogs.nytimes.com/2003/12/03/neighborly-interests/',\n",
    " 'https://query.nytimes.com/gst/fullpage.html?res=9F0CE1D91530F93BA25751C1A9629C8B63',\n",
    " 'https://query.nytimes.com/gst/fullpage.html?res=9E06E6DD1530F934A25751C1A9629C8B63',\n",
    " 'https://query.nytimes.com/gst/fullpage.html?res=9400EFDE1430F935A25751C1A9629C8B63',\n",
    " 'https://query.nytimes.com/gst/fullpage.html?res=9401E1DA1031F931A25751C1A9629C8B63',\n",
    " 'https://query.nytimes.com/gst/fullpage.html?res=9B0CE5DE1731F937A35751C1A9629C8B63',\n",
    " 'https://query.nytimes.com/gst/fullpage.html?res=9C05E0D8103EF933A05752C1A9629C8B63',\n",
    " 'https://query.nytimes.com/gst/fullpage.html?res=9C07EFDF103EF93AA15752C1A9629C8B63',\n",
    " 'https://query.nytimes.com/gst/fullpage.html?res=9801E7D9143EF93BA15752C1A9629C8B63',\n",
    " 'https://query.nytimes.com/gst/fullpage.html?res=9C02EED9153EF936A15752C1A9629C8B63',\n",
    " 'https://query.nytimes.com/gst/fullpage.html?res=9402E2D61730F932A15751C1A9639C8B63',\n",
    " 'https://query.nytimes.com/gst/fullpage.html?res=9503E2DF1531F93AA25751C1A9639C8B63',\n",
    " 'https://query.nytimes.com/gst/fullpage.html?res=9C0DE6DF1730F93BA25751C1A9639C8B63',\n",
    " 'https://query.nytimes.com/gst/fullpage.html?res=9D04E6DF1F31F937A25751C1A9639C8B63',\n",
    " 'https://query.nytimes.com/gst/fullpage.html?res=9900E2DD1131F93AA35751C1A9639C8B63',\n",
    " 'https://query.nytimes.com/gst/fullpage.html?res=9D05E2DE1231F931A35751C1A9639C8B63',\n",
    " 'https://query.nytimes.com/gst/fullpage.html?res=9A00E2DF1231F931A35751C1A9639C8B63',\n",
    " 'https://query.nytimes.com/gst/fullpage.html?res=9C03E2DA1731F935A15752C1A9639C8B63',\n",
    " 'https://www.nytimes.com/roomfordebate/2011/12/29/why-we-collect-stuff/',\n",
    " 'https://www.nytimes.com/roomfordebate/2011/12/19/should-teenagers-get-high-instead-of-drunk/',\n",
    " 'https://www.nytimes.com/roomfordebate/2011/12/18/are-presidential-pardons-fair/',\n",
    " 'https://well.blogs.nytimes.com/2011/12/14/marijuana-growing-in-popularity-among-teenagers/',\n",
    " 'https://latitude.blogs.nytimes.com/2011/12/02/taking-back-the-favelas/',\n",
    " 'https://www.nytimes.com/roomfordebate/2012/10/18/shrink-inequality-to-grow-the-economy/',\n",
    " 'https://learning.blogs.nytimes.com/2013/12/19/what-musician-actor-or-author-should-be-a-superstar-but-hasnt-quite-made-it-yet/',\n",
    " 'https://learning.blogs.nytimes.com/2000/04/26/high-risk-areas/',\n",
    " 'https://learning.blogs.nytimes.com/2003/09/30/redefining-addiction/', \n",
    " 'https://query.nytimes.com/gst/fullpage.html?res=9403E4DE1F30F935A15751C1A9629C8B63', \n",
    " 'https://query.nytimes.com/gst/fullpage.html?res=9802E5D61131F932A25751C1A9629C8B63',\n",
    " 'https://query.nytimes.com/gst/fullpage.html?res=9C06E4DE1431F935A35751C1A9629C8B63',\n",
    " 'https://query.nytimes.com/gst/fullpage.html?res=9C0DEFDB1F3EF936A35751C1A9629C8B63',\n",
    " 'https://query.nytimes.com/gst/fullpage.html?res=9C05E0D8103EF933A05752C1A9629C8B63', \n",
    " 'https://query.nytimes.com/gst/fullpage.html?res=9A02E6DB113FF93AA25752C1A9629C8B63', \n",
    " 'https://query.nytimes.com/gst/fullpage.html?res=9402E2D61730F932A15751C1A9639C8B63', \n",
    " 'https://query.nytimes.com/gst/fullpage.html?res=9900E2DD1131F93AA35751C1A9639C8B63', \n",
    " 'https://www.nytimes.com/2005/12/04/books/review/04martin.html',\n",
    " 'https://query.nytimes.com/gst/fullpage.html?res=9B04EFD61531F931A35751C1A9639C8B63',\n",
    " 'https://query.nytimes.com/gst/fullpage.html?res=9B07EEDA1531F932A35751C1A9639C8B63',\n",
    " 'https://query.nytimes.com/gst/fullpage.html?res=9C0DE5DB103EF936A25752C1A9639C8B63',\n",
    " 'https://query.nytimes.com/gst/fullpage.html?res=9804E4D8133EF930A25752C1A9639C8B63', \n",
    " 'https://query.nytimes.com/gst/fullpage.html?res=950DE4D6123EF932A25752C1A9639C8B63',\n",
    " 'https://query.nytimes.com/gst/fullpage.html?res=950DEEDF173EF935A35752C1A9639C8B63', \n",
    " 'https://query.nytimes.com/gst/fullpage.html?res=9803E7DA173FF930A25753C1A9639C8B63',\n",
    " 'https://query.nytimes.com/gst/fullpage.html?res=9800E6DD173FF930A25753C1A9639C8B63',\n",
    " 'https://query.nytimes.com/gst/fullpage.html?res=9806E1DB1F30F93BA35753C1A9639C8B63', \n",
    " 'https://roomfordebate.blogs.nytimes.com/2009/11/30/obamas-surge-strategy-in-afghanistan/', \n",
    " 'https://learning.blogs.nytimes.com/2010/11/02/which-pop-music-stars-fascinate-you/', \n",
    " 'https://www.nytimes.com/roomfordebate/2013/11/28/how-will-aids-be-eradicated/', \n",
    " 'https://www.nytimes.com/video/us/100000001970447/jumping-for-show.html', \n",
    " 'https://www.nytimes.com/video/us/100000002614644/a-familys-sentence.html', \n",
    " 'https://www.nytimes.com/video/opinion/100000002602665/naturally-jj-cale.html', \n",
    " 'https://www.nytimes.com/roomfordebate/2014/11/18/constitutional-limits-of-presidential-action-on-immigration-12',\n",
    " 'https://www.nytimes.com/video/us/100000004010136/clinton-on-jail-time-for-cocaine-users.html', \n",
    " 'https://www.nytimes.com/roomfordebate/2015/11/11/should-drug-addicts-be-forced-into-treatment',\n",
    " ]"
   ]
  },
  {
   "cell_type": "code",
   "execution_count": 23,
   "metadata": {
    "collapsed": true
   },
   "outputs": [],
   "source": [
    "new_list = [] # removing all process-interrupting URLS from the cocaine list\n",
    "for e in cocaine_list:\n",
    "    if e not in removal_list:\n",
    "        new_list.append(e)\n",
    "cocaine_list = new_list"
   ]
  },
  {
   "cell_type": "code",
   "execution_count": 24,
   "metadata": {},
   "outputs": [
    {
     "data": {
      "text/plain": [
       "361"
      ]
     },
     "execution_count": 24,
     "metadata": {},
     "output_type": "execute_result"
    }
   ],
   "source": [
    "len(cocaine_list)"
   ]
  },
  {
   "cell_type": "code",
   "execution_count": 25,
   "metadata": {
    "collapsed": true
   },
   "outputs": [],
   "source": [
    "new_list = [] # removing all process-interrupting URLS from the cocaine list\n",
    "for e in heroin_list:\n",
    "    if e not in removal_list:\n",
    "        new_list.append(e)\n",
    "heroin_list = new_list"
   ]
  },
  {
   "cell_type": "code",
   "execution_count": 26,
   "metadata": {},
   "outputs": [
    {
     "data": {
      "text/plain": [
       "190"
      ]
     },
     "execution_count": 26,
     "metadata": {},
     "output_type": "execute_result"
    }
   ],
   "source": [
    "len(heroin_list)"
   ]
  },
  {
   "cell_type": "code",
   "execution_count": 115,
   "metadata": {
    "collapsed": true
   },
   "outputs": [],
   "source": [
    "cocaine_scrub(cocaine_list)"
   ]
  },
  {
   "cell_type": "code",
   "execution_count": 139,
   "metadata": {
    "collapsed": true
   },
   "outputs": [],
   "source": [
    "heroin_scrub(heroin_list)"
   ]
  }
 ],
 "metadata": {
  "kernelspec": {
   "display_name": "Python 3",
   "language": "python",
   "name": "python3"
  },
  "language_info": {
   "codemirror_mode": {
    "name": "ipython",
    "version": 3
   },
   "file_extension": ".py",
   "mimetype": "text/x-python",
   "name": "python",
   "nbconvert_exporter": "python",
   "pygments_lexer": "ipython3",
   "version": "3.6.1"
  }
 },
 "nbformat": 4,
 "nbformat_minor": 2
}
