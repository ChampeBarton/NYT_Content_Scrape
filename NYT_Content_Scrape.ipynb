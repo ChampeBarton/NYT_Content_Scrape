{
 "cells": [
  {
   "cell_type": "code",
   "execution_count": 1,
   "metadata": {
    "collapsed": true
   },
   "outputs": [],
   "source": [
    "import newspaper"
   ]
  },
  {
   "cell_type": "code",
   "execution_count": 2,
   "metadata": {
    "collapsed": true
   },
   "outputs": [],
   "source": [
    "from newspaper import Article"
   ]
  },
  {
   "cell_type": "code",
   "execution_count": 3,
   "metadata": {
    "collapsed": true
   },
   "outputs": [],
   "source": [
    "import re"
   ]
  },
  {
   "cell_type": "code",
   "execution_count": 4,
   "metadata": {
    "collapsed": true
   },
   "outputs": [],
   "source": [
    "import collections"
   ]
  },
  {
   "cell_type": "code",
   "execution_count": 5,
   "metadata": {
    "collapsed": true
   },
   "outputs": [],
   "source": [
    "from collections import Counter"
   ]
  },
  {
   "cell_type": "code",
   "execution_count": 6,
   "metadata": {
    "collapsed": true
   },
   "outputs": [],
   "source": [
    "import csv"
   ]
  },
  {
   "cell_type": "code",
   "execution_count": 7,
   "metadata": {
    "collapsed": true
   },
   "outputs": [],
   "source": [
    "from NYTimesArticleAPInew import articleAPI\n",
    "api = articleAPI('8ea7f91a8e294b51b12f3f69849fef95') # special api key to access the NYT article archive for analysis "
   ]
  },
  {
   "cell_type": "code",
   "execution_count": 8,
   "metadata": {
    "collapsed": true
   },
   "outputs": [],
   "source": [
    "import time"
   ]
  },
  {
   "cell_type": "code",
   "execution_count": 9,
   "metadata": {
    "collapsed": true
   },
   "outputs": [],
   "source": [
    "apathetic = [\"prison\", \"crime\", \"criminal\", \"police\", \"justice\", \"arrest\", \"threat\", \"violence\", \"habit\"]"
   ]
  },
  {
   "cell_type": "code",
   "execution_count": 10,
   "metadata": {
    "collapsed": true
   },
   "outputs": [],
   "source": [
    "empathetic = [\"treatment\", \"disease\", \"sick\", \"health\", \"therapy\", \"insurance\", \"patient\", \"overdose\", \"misuse\"]"
   ]
  },
  {
   "cell_type": "code",
   "execution_count": 11,
   "metadata": {
    "collapsed": true
   },
   "outputs": [],
   "source": [
    "def counter(link): # takes in url to be scraped and records their word frequencies and publication years\n",
    "    cnt = Counter()\n",
    "    emp_tally = 0\n",
    "    ap_tally = 0 \n",
    "    article = Article(url = link, language = 'en') \n",
    "    article.download()\n",
    "    article.parse()\n",
    "    year = article.publish_date.year\n",
    "    article_words = re.findall('\\w+', article.text.lower()) # create list of every word in article body\n",
    "    for word in article_words: # create dict of frequency w/ which target words appear in article\n",
    "        if word in apathetic:\n",
    "            cnt[word] += 1\n",
    "            ap_tally += 1 # keep track of how many apathetic words total are used in article\n",
    "        if word in empathetic:\n",
    "            cnt[word] += 1\n",
    "            emp_tally += 1 # keep track of how many empathetic words total are used in article\n",
    "    cnt['emp_tally'] = emp_tally \n",
    "    cnt['ap_tally'] = ap_tally\n",
    "    finish = [cnt, year] \n",
    "    return finish; # returns list with dict of word frequencies and year of article publication"
   ]
  },
  {
   "cell_type": "code",
   "execution_count": 12,
   "metadata": {
    "collapsed": true
   },
   "outputs": [],
   "source": [
    "def cocaine_scrub(link_list): # takes in list of urls to be scrubbed and writes their word tallies into a csv file\n",
    "    totals_dict = {'emp_total': 0, 'ap_total': 0}\n",
    "    with open('crack_epidemic_data.csv', 'w') as f:\n",
    "        writer = csv.writer(f)\n",
    "        writer.writerow([\"Year\", \"Word\", \"Frequency\"]) # write csv file headers\n",
    "        for i in range (0, len(link_list)): # cycle through list of urls\n",
    "            count = counter(link_list[i]) # get dict of word frequencies and publication date for i'th article\n",
    "            year = (count[1], ) \n",
    "            if i != 0 and year != prev_year:\n",
    "                for row in totals_dict.items(): \n",
    "                    writer.writerow(prev_year + row)\n",
    "                totals_dict[\"emp_total\"] = 0\n",
    "                totals_dict[\"ap_total\"] = 0\n",
    "            prev_year = (count[1], )\n",
    "            totals_dict[\"emp_total\"] += count[0][\"emp_tally\"] # tally total number of empathetic words used in given year\n",
    "            totals_dict[\"ap_total\"] += count[0][\"ap_tally\"] # tally total number of apathetic words used in given year\n",
    "            for row in count[0].items():\n",
    "                writer.writerow(year + row) # write word frequencies and emp/ap tallies for each article to a csv file\n",
    "            if i == (len (link_list) - 1):\n",
    "                for row in totals_dict.items(): \n",
    "                    writer.writerow(year + row)"
   ]
  },
  {
   "cell_type": "code",
   "execution_count": 13,
   "metadata": {
    "collapsed": true
   },
   "outputs": [],
   "source": [
    "def heroin_scrub(link_list): # takes in list of urls to be scrubbed and writes their word tallies into a csv file\n",
    "    totals_dict = {'emp_total': 0, 'ap_total': 0}\n",
    "    with open('heroin_epidemic_data.csv', 'w') as f:\n",
    "        writer = csv.writer(f)\n",
    "        writer.writerow([\"Year\", \"Word\", \"Frequency\"]) # write csv file headers\n",
    "        for i in range (0, len(link_list)): # cycle through list of urls\n",
    "            count = counter(link_list[i]) # get dict of word frequencies and publication date for i'th article\n",
    "            year = (count[1], ) \n",
    "            if i != 0 and year != prev_year:\n",
    "                for row in totals_dict.items(): \n",
    "                    writer.writerow(prev_year + row)\n",
    "                totals_dict[\"emp_total\"] = 0\n",
    "                totals_dict[\"ap_total\"] = 0\n",
    "            prev_year = (count[1], )\n",
    "            totals_dict[\"emp_total\"] += count[0][\"emp_tally\"] # tally total number of empathetic words used in given year\n",
    "            totals_dict[\"ap_total\"] += count[0][\"ap_tally\"] # tally total number of apathetic words used in given year\n",
    "            for row in count[0].items():\n",
    "                writer.writerow(year + row) # write word frequencies and emp/ap tallies for each article to a csv file\n",
    "            if i == (len (link_list) - 1):\n",
    "                for row in totals_dict.items(): \n",
    "                    writer.writerow(year + row)"
   ]
  },
  {
   "cell_type": "code",
   "execution_count": 14,
   "metadata": {
    "collapsed": true
   },
   "outputs": [],
   "source": [
    "def parse_articles(articles): # takes in response to NYT api and parses articles into list of dicts\n",
    "    news = []\n",
    "    for i in articles['response']['docs']:\n",
    "        dic = {}\n",
    "        dic['url'] = i['web_url'] \n",
    "        news.append(dic)\n",
    "    return(news) "
   ]
  },
  {
   "cell_type": "code",
   "execution_count": 15,
   "metadata": {
    "collapsed": true
   },
   "outputs": [],
   "source": [
    "def get_articles(date, query): # accepts year (e.g.'1980') & query term (e.g.'Amnesty International') as str\n",
    "                              # and returns list of parsed articles (in dicts) for that year.\n",
    "    all_articles = []\n",
    "    for i in range (0,25):\n",
    "        articles = api.search(q = query,\n",
    "                fq = {'source':['Reuters','AP', 'The New York Times'], 'section_name': ['Health', \n",
    "                      'N.Y. / Region', 'N.Y./Region', 'NYRegion', 'National', 'New York', 'New York and Region',\n",
    "                      'U.S.', 'Washington']}, # limits the sections searched for the analysis \n",
    "                begin_date = date + '0101', # delimits the start date of the search\n",
    "                end_date = date + '1231', # delimits the end datea of the search\n",
    "                fl = 'web_url', # specifies the information to pull from the search results — in this case, the URL\n",
    "                page = i)\n",
    "        time.sleep(0.9) # a time delay to circumvent the NYT time-sensitive pull-request limit\n",
    "        parsed_articles = parse_articles(articles) \n",
    "        all_articles = all_articles + parsed_articles \n",
    "    return(all_articles)"
   ]
  },
  {
   "cell_type": "code",
   "execution_count": 17,
   "metadata": {},
   "outputs": [
    {
     "name": "stdout",
     "output_type": "stream",
     "text": [
      "Processing 1985...\n",
      "Processing 1986...\n",
      "Processing 1987...\n",
      "Processing 1988...\n",
      "Processing 1989...\n",
      "Processing 1990...\n",
      "Processing 1991...\n",
      "Processing 1992...\n",
      "Processing 1993...\n",
      "Processing 1994...\n",
      "Processing 1995...\n",
      "Processing 1996...\n",
      "Processing 1997...\n",
      "Processing 1998...\n"
     ]
    }
   ],
   "source": [
    "cocaine_all = []\n",
    "for i in range(1985,1999): # generates a dict of all crack-related URLs\n",
    "    print ('Processing ' + str(i) + '...')\n",
    "    time.sleep(0.8) # a time delay to prevent an error that kept interrupting the analysis\n",
    "    cocaine_year =  get_articles(str(i),'crack epidemic') # sets the search query term to use\n",
    "    cocaine_all = cocaine_all + cocaine_year"
   ]
  },
  {
   "cell_type": "code",
   "execution_count": 18,
   "metadata": {
    "collapsed": true
   },
   "outputs": [],
   "source": [
    "cocaine_list = []\n",
    "for i in range (0, len(cocaine_all)): # converts the dict of URLs into a list of URLs\n",
    "    for value in cocaine_all[i].items():\n",
    "        cocaine_list.append(value[1])"
   ]
  },
  {
   "cell_type": "code",
   "execution_count": 19,
   "metadata": {},
   "outputs": [
    {
     "name": "stdout",
     "output_type": "stream",
     "text": [
      "Processing 2004...\n",
      "Processing 2005...\n",
      "Processing 2006...\n",
      "Processing 2007...\n",
      "Processing 2008...\n",
      "Processing 2009...\n",
      "Processing 2010...\n",
      "Processing 2011...\n",
      "Processing 2012...\n",
      "Processing 2013...\n",
      "Processing 2014...\n",
      "Processing 2015...\n",
      "Processing 2016...\n",
      "Processing 2017...\n"
     ]
    }
   ],
   "source": [
    "heroin_all = []\n",
    "for i in range(2004,2018): # generates a dict of all opioid-related URLs\n",
    "    print ('Processing ' + str(i) + '...')\n",
    "    time.sleep(0.8) # a time delay to prevent an error that kept interrupting the analysis\n",
    "    heroin_year =  get_articles(str(i),'opioid epidemic') # sets the search query term to use\n",
    "    heroin_all = heroin_all + heroin_year"
   ]
  },
  {
   "cell_type": "code",
   "execution_count": 20,
   "metadata": {
    "collapsed": true
   },
   "outputs": [],
   "source": [
    "heroin_list = []\n",
    "for i in range (0, len(heroin_all)): # converts the dict of URLs into a list of URLs\n",
    "    for value in heroin_all[i].items():\n",
    "        heroin_list.append(value[1])"
   ]
  },
  {
   "cell_type": "code",
   "execution_count": 21,
   "metadata": {
    "scrolled": true
   },
   "outputs": [
    {
     "data": {
      "text/plain": [
       "['https://www.nytimes.com/1985/11/29/nyregion/a-new-purified-form-of-cocaine-causes-alarm-as-abuse-increases.html',\n",
       " 'https://www.nytimes.com/1985/10/24/us/bathhouse-curbs-called-help-in-coast-aids-fight.html',\n",
       " 'https://www.nytimes.com/1986/12/20/nyregion/force-seller-to-upgrade-buildings-koch-urges.html',\n",
       " . . . "
       ]"
      ]
     },
     "execution_count": 21,
     "metadata": {},
     "output_type": "execute_result"
    }
   ],
   "source": [
    "cocaine_list # checking the lists for URLs that throw a wrench in the final scrub"
   ]
  },
  {
   "cell_type": "code",
   "execution_count": 22,
   "metadata": {
    "collapsed": true
   },
   "outputs": [],
   "source": [
    "removal_list = [ # creating a list of those removed URLs from the several analyses run\n",
    " 'https://learning.blogs.nytimes.com/1999/08/23/american-media-addicted-to-scandal/',\n",
    " 'https://learning.blogs.nytimes.com/1999/06/08/fighting-fire-with-fire/', \n",
    " . . ."
    
    " ]"
   ]
  },
  {
   "cell_type": "code",
   "execution_count": 23,
   "metadata": {
    "collapsed": true
   },
   "outputs": [],
   "source": [
    "new_list = [] # removing all process-interrupting URLS from the cocaine list\n",
    "for e in cocaine_list:\n",
    "    if e not in removal_list:\n",
    "        new_list.append(e)\n",
    "cocaine_list = new_list"
   ]
  },
  {
   "cell_type": "code",
   "execution_count": 24,
   "metadata": {},
   "outputs": [
    {
     "data": {
      "text/plain": [
       "361"
      ]
     },
     "execution_count": 24,
     "metadata": {},
     "output_type": "execute_result"
    }
   ],
   "source": [
    "len(cocaine_list)"
   ]
  },
  {
   "cell_type": "code",
   "execution_count": 25,
   "metadata": {
    "collapsed": true
   },
   "outputs": [],
   "source": [
    "new_list = [] # removing all process-interrupting URLS from the cocaine list\n",
    "for e in heroin_list:\n",
    "    if e not in removal_list:\n",
    "        new_list.append(e)\n",
    "heroin_list = new_list"
   ]
  },
  {
   "cell_type": "code",
   "execution_count": 26,
   "metadata": {},
   "outputs": [
    {
     "data": {
      "text/plain": [
       "190"
      ]
     },
     "execution_count": 26,
     "metadata": {},
     "output_type": "execute_result"
    }
   ],
   "source": [
    "len(heroin_list)"
   ]
  },
  {
   "cell_type": "code",
   "execution_count": 115,
   "metadata": {
    "collapsed": true
   },
   "outputs": [],
   "source": [
    "cocaine_scrub(cocaine_list)"
   ]
  },
  {
   "cell_type": "code",
   "execution_count": 139,
   "metadata": {
    "collapsed": true
   },
   "outputs": [],
   "source": [
    "heroin_scrub(heroin_list)"
   ]
  }
 ],
 "metadata": {
  "kernelspec": {
   "display_name": "Python 3",
   "language": "python",
   "name": "python3"
  },
  "language_info": {
   "codemirror_mode": {
    "name": "ipython",
    "version": 3
   },
   "file_extension": ".py",
   "mimetype": "text/x-python",
   "name": "python",
   "nbconvert_exporter": "python",
   "pygments_lexer": "ipython3",
   "version": "3.6.1"
  }
 },
 "nbformat": 4,
 "nbformat_minor": 2
}
